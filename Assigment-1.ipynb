{
 "cells": [
  {
   "cell_type": "code",
   "execution_count": 87,
   "metadata": {},
   "outputs": [
    {
     "name": "stdout",
     "output_type": "stream",
     "text": [
      "[[1.  2.  3. ]\n",
      " [3.  4.  6.7]\n",
      " [5.  9.  5. ]]\n"
     ]
    },
    {
     "ename": "TypeError",
     "evalue": "'module' object is not callable",
     "output_type": "error",
     "traceback": [
      "\u001b[1;31m---------------------------------------------------------------------------\u001b[0m",
      "\u001b[1;31mTypeError\u001b[0m                                 Traceback (most recent call last)",
      "\u001b[1;32mc:\\Users\\HP\\Desktop\\WITU COHORT 3\\YEAR ONE\\SEMESTER ONE\\INTRODUCTION TO MATHEMATICAL COMPUTING\\ASSIGNMENT1\\Assigment-1.ipynb Cell 1\u001b[0m line \u001b[0;36m1\n\u001b[0;32m      <a href='vscode-notebook-cell:/c%3A/Users/HP/Desktop/WITU%20COHORT%203/YEAR%20ONE/SEMESTER%20ONE/INTRODUCTION%20TO%20MATHEMATICAL%20COMPUTING/ASSIGNMENT1/Assigment-1.ipynb#W0sZmlsZQ%3D%3D?line=7'>8</a>\u001b[0m a\u001b[39m.\u001b[39mtranspose()\n\u001b[0;32m      <a href='vscode-notebook-cell:/c%3A/Users/HP/Desktop/WITU%20COHORT%203/YEAR%20ONE/SEMESTER%20ONE/INTRODUCTION%20TO%20MATHEMATICAL%20COMPUTING/ASSIGNMENT1/Assigment-1.ipynb#W0sZmlsZQ%3D%3D?line=8'>9</a>\u001b[0m \u001b[39mimport\u001b[39;00m \u001b[39marray\u001b[39;00m\n\u001b[1;32m---> <a href='vscode-notebook-cell:/c%3A/Users/HP/Desktop/WITU%20COHORT%203/YEAR%20ONE/SEMESTER%20ONE/INTRODUCTION%20TO%20MATHEMATICAL%20COMPUTING/ASSIGNMENT1/Assigment-1.ipynb#W0sZmlsZQ%3D%3D?line=9'>10</a>\u001b[0m array([[ \u001b[39m1.\u001b[39;49m ,  \u001b[39m3.\u001b[39;49m ,  \u001b[39m5.\u001b[39;49m ],\n\u001b[0;32m     <a href='vscode-notebook-cell:/c%3A/Users/HP/Desktop/WITU%20COHORT%203/YEAR%20ONE/SEMESTER%20ONE/INTRODUCTION%20TO%20MATHEMATICAL%20COMPUTING/ASSIGNMENT1/Assigment-1.ipynb#W0sZmlsZQ%3D%3D?line=10'>11</a>\u001b[0m        [ \u001b[39m2.\u001b[39;49m ,  \u001b[39m4.\u001b[39;49m ,  \u001b[39m9.\u001b[39;49m ],\n\u001b[0;32m     <a href='vscode-notebook-cell:/c%3A/Users/HP/Desktop/WITU%20COHORT%203/YEAR%20ONE/SEMESTER%20ONE/INTRODUCTION%20TO%20MATHEMATICAL%20COMPUTING/ASSIGNMENT1/Assigment-1.ipynb#W0sZmlsZQ%3D%3D?line=11'>12</a>\u001b[0m        [ \u001b[39m3.\u001b[39;49m ,  \u001b[39m6.7\u001b[39;49m,  \u001b[39m5.\u001b[39;49m ]])\n\u001b[0;32m     <a href='vscode-notebook-cell:/c%3A/Users/HP/Desktop/WITU%20COHORT%203/YEAR%20ONE/SEMESTER%20ONE/INTRODUCTION%20TO%20MATHEMATICAL%20COMPUTING/ASSIGNMENT1/Assigment-1.ipynb#W0sZmlsZQ%3D%3D?line=12'>13</a>\u001b[0m inv(a)\n\u001b[0;32m     <a href='vscode-notebook-cell:/c%3A/Users/HP/Desktop/WITU%20COHORT%203/YEAR%20ONE/SEMESTER%20ONE/INTRODUCTION%20TO%20MATHEMATICAL%20COMPUTING/ASSIGNMENT1/Assigment-1.ipynb#W0sZmlsZQ%3D%3D?line=13'>14</a>\u001b[0m array([[\u001b[39m-\u001b[39m\u001b[39m2.27683616\u001b[39m,  \u001b[39m0.96045198\u001b[39m,  \u001b[39m0.07909605\u001b[39m],\n\u001b[0;32m     <a href='vscode-notebook-cell:/c%3A/Users/HP/Desktop/WITU%20COHORT%203/YEAR%20ONE/SEMESTER%20ONE/INTRODUCTION%20TO%20MATHEMATICAL%20COMPUTING/ASSIGNMENT1/Assigment-1.ipynb#W0sZmlsZQ%3D%3D?line=14'>15</a>\u001b[0m        [ \u001b[39m1.04519774\u001b[39m, \u001b[39m-\u001b[39m\u001b[39m0.56497175\u001b[39m,  \u001b[39m0.1299435\u001b[39m ],\n\u001b[0;32m     <a href='vscode-notebook-cell:/c%3A/Users/HP/Desktop/WITU%20COHORT%203/YEAR%20ONE/SEMESTER%20ONE/INTRODUCTION%20TO%20MATHEMATICAL%20COMPUTING/ASSIGNMENT1/Assigment-1.ipynb#W0sZmlsZQ%3D%3D?line=15'>16</a>\u001b[0m        [ \u001b[39m0.39548023\u001b[39m,  \u001b[39m0.05649718\u001b[39m, \u001b[39m-\u001b[39m\u001b[39m0.11299435\u001b[39m]])\n",
      "\u001b[1;31mTypeError\u001b[0m: 'module' object is not callable"
     ]
    }
   ],
   "source": [
    "import random\n",
    "from numpy.random import randint\n",
    "from numpy.linalg import solve, inv\n",
    "import numpy as np\n",
    "a = np.array([[1, 2, 3], [3, 4, 6.7], [5, 9.0, 5]])\n",
    "print(a)\n",
    "\n",
    "a.transpose()\n",
    "import array\n",
    "array([[ 1. ,  3. ,  5. ],\n",
    "       [ 2. ,  4. ,  9. ],\n",
    "       [ 3. ,  6.7,  5. ]])\n",
    "inv(a)\n",
    "array([[-2.27683616,  0.96045198,  0.07909605],\n",
    "       [ 1.04519774, -0.56497175,  0.1299435 ],\n",
    "       [ 0.39548023,  0.05649718, -0.11299435]])\n",
    "b =  np.array([3, 2, 1])\n",
    "print(b)\n",
    "\n",
    "solve(a, b)  # solve the equation ax = b\n",
    "array([-4.83050847,  2.13559322,  1.18644068])\n",
    "\"import random\"\n",
    "c = random;(3, 3) * 20  # create a 3x3 random matrix of values within [0,1] scaled by 20 c\n",
    "array([[  3.98732789,   2.47702609,   4.71167924],\n",
    "       [  9.24410671,   5.5240412 ,  10.6468792 ],\n",
    "       [ 10.38136661,   8.44968437,  15.17639591]])\n",
    "np.dot(a, c)  # matrix multiplication\n",
    "print(c)\n"
   ]
  }
 ],
 "metadata": {
  "kernelspec": {
   "display_name": "Python 3",
   "language": "python",
   "name": "python3"
  },
  "language_info": {
   "codemirror_mode": {
    "name": "ipython",
    "version": 3
   },
   "file_extension": ".py",
   "mimetype": "text/x-python",
   "name": "python",
   "nbconvert_exporter": "python",
   "pygments_lexer": "ipython3",
   "version": "3.11.4"
  },
  "orig_nbformat": 4
 },
 "nbformat": 4,
 "nbformat_minor": 2
}
